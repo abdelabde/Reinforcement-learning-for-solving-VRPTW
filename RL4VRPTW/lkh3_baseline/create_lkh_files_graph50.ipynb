{
 "cells": [
  {
   "cell_type": "code",
   "execution_count": 1,
   "outputs": [
    {
     "data": {
      "text/plain": "'linux'"
     },
     "execution_count": 1,
     "metadata": {},
     "output_type": "execute_result"
    }
   ],
   "source": [
    "import numpy as np\n",
    "import sys\n",
    "sys.platform"
   ],
   "metadata": {
    "collapsed": false,
    "pycharm": {
     "name": "#%%\n"
    }
   }
  },
  {
   "cell_type": "code",
   "execution_count": 2,
   "outputs": [],
   "source": [
    "from baseline_lkh3 import BaselineLKH3\n"
   ],
   "metadata": {
    "collapsed": false,
    "pycharm": {
     "name": "#%%\n"
    }
   }
  },
  {
   "cell_type": "code",
   "execution_count": 4,
   "outputs": [],
   "source": [
    "# from utils import create_data_on_disk\n",
    "# val_data = create_data_on_disk(50,\n",
    "#                                10,\n",
    "#                                is_save=True,\n",
    "#                                filename='small_10_50',\n",
    "#                                is_return=True,\n",
    "#                                seed=1234)"
   ],
   "metadata": {
    "collapsed": false,
    "pycharm": {
     "name": "#%%\n"
    }
   }
  },
  {
   "cell_type": "code",
   "execution_count": 5,
   "outputs": [
    {
     "name": "stdout",
     "output_type": "stream",
     "text": [
      "This class was written and tested for Unix systems only\n",
      "Creating directory  /mnt/c/Users/Human/rl/Project/attention-learn-to-route-master/AM-D-VRP-Development-master/AM-D-VRP-Development-master/adm_best_vrp_tf/LKH_3_VRP_50_2020-06-10\n",
      "Loading validation dataset  Validation_dataset_VRP_50_2020-06-09.pkl\n",
      "Number of processed graphs: 0\n",
      "Number of processed graphs: 1000\n",
      "Number of processed graphs: 2000\n",
      "Number of processed graphs: 3000\n",
      "Number of processed graphs: 4000\n",
      "Number of processed graphs: 5000\n",
      "Number of processed graphs: 6000\n",
      "Number of processed graphs: 7000\n",
      "Number of processed graphs: 8000\n",
      "Number of processed graphs: 9000\n",
      "LKH-3 data has been successfully created and saved into  /mnt/c/Users/Human/rl/Project/attention-learn-to-route-master/AM-D-VRP-Development-master/AM-D-VRP-Development-master/adm_best_vrp_tf/LKH_3_VRP_50_2020-06-10\n",
      "10.077448878633003\n"
     ]
    },
    {
     "name": "stderr",
     "output_type": "stream",
     "text": [
      "10000it [52:09:21, 18.78s/it]\n"
     ]
    }
   ],
   "source": [
    "cur_dir = '/mnt/c/Users/Human/rl/Project/attention-learn-to-route-master/AM-D-VRP-Development-master/AM-D-VRP-Development-master/adm_best_vrp_tf/LKH_3_VRP_50_2020-06-10'\n",
    "val_data_path = 'Validation_dataset_VRP_50_2020-06-09.pkl'\n",
    "executable_path = '/mnt/c/Users/Human/rl/Project/attention-learn-to-route-master/AM-D-VRP-Development-master/AM-D-VRP-Development-master/adm_best_vrp_tf/LKH-3.0.4/LKH'\n",
    "lkh3_b = BaselineLKH3(cur_dir,\n",
    "                      val_data_path,\n",
    "                      executable_path\n",
    "                      )\n",
    "\n",
    "lkh3_b.create_lkh_data()\n",
    "\n",
    "lkh3_costs, lkh3_paths, lkh3_duration = lkh3_b.run_lkh3()\n",
    "\n",
    "print(np.mean(np.array(lkh3_costs)))"
   ],
   "metadata": {
    "collapsed": false,
    "pycharm": {
     "name": "#%%\n"
    }
   }
  },
  {
   "cell_type": "code",
   "execution_count": null,
   "outputs": [],
   "source": [],
   "metadata": {
    "collapsed": false,
    "pycharm": {
     "name": "#%%\n"
    }
   }
  }
 ],
 "metadata": {
  "kernelspec": {
   "display_name": "Python 3",
   "language": "python",
   "name": "python3"
  },
  "language_info": {
   "codemirror_mode": {
    "name": "ipython",
    "version": 2
   },
   "file_extension": ".py",
   "mimetype": "text/x-python",
   "name": "python",
   "nbconvert_exporter": "python",
   "pygments_lexer": "ipython2",
   "version": "2.7.6"
  }
 },
 "nbformat": 4,
 "nbformat_minor": 0
}